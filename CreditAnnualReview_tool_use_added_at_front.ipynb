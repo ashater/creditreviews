{
  "nbformat": 4,
  "nbformat_minor": 0,
  "metadata": {
    "colab": {
      "provenance": [],
      "collapsed_sections": [
        "cJb60LgFB6uJ"
      ],
      "include_colab_link": true
    },
    "kernelspec": {
      "name": "python3",
      "display_name": "Python 3"
    },
    "language_info": {
      "name": "python"
    }
  },
  "cells": [
    {
      "cell_type": "markdown",
      "metadata": {
        "id": "view-in-github",
        "colab_type": "text"
      },
      "source": [
        "<a href=\"https://colab.research.google.com/github/ashater/creditreviews/blob/main/CreditAnnualReview_tool_use_added_at_front.ipynb\" target=\"_parent\"><img src=\"https://colab.research.google.com/assets/colab-badge.svg\" alt=\"Open In Colab\"/></a>"
      ]
    },
    {
      "cell_type": "markdown",
      "source": [
        "\n",
        "\n",
        "##Install and Import"
      ],
      "metadata": {
        "id": "cJb60LgFB6uJ"
      }
    },
    {
      "cell_type": "code",
      "execution_count": null,
      "metadata": {
        "id": "y6UWXDP4H_-t"
      },
      "outputs": [],
      "source": [
        "# ! pip install \"unstructured[pdf]\"\n",
        "\n",
        "# ! pip install langchain\n",
        "# ! pip install langchain-anthropic\n",
        "# ! pip install -U langchain-community\n",
        "\n",
        "# ! pip install docarray\n",
        "# ! pip install gpt4all > /dev/null\n",
        "\n",
        "# ! apt-get install poppler-utils\n",
        "# ! pip install pymupdf\n",
        "\n",
        "# ! apt install tesseract-ocr\n",
        "# ! apt install libtesseract-dev\n",
        "# ! pip install tesseract\n"
      ]
    },
    {
      "cell_type": "code",
      "source": [
        "import anthropic\n",
        "from langchain_anthropic import ChatAnthropic\n",
        "\n",
        "from langchain.prompts import ChatPromptTemplate\n",
        "from langchain.chains import RetrievalQA\n",
        "from langchain.document_loaders import UnstructuredPDFLoader\n",
        "from langchain.vectorstores import DocArrayInMemorySearch\n",
        "from IPython.display import display, Markdown\n",
        "\n",
        "from langchain.indexes import VectorstoreIndexCreator\n",
        "from langchain_community.embeddings import GPT4AllEmbeddings\n",
        "\n",
        "import fitz\n",
        "from google.colab import userdata"
      ],
      "metadata": {
        "id": "GPRcEpwKJxsd"
      },
      "execution_count": null,
      "outputs": []
    },
    {
      "cell_type": "markdown",
      "source": [
        "##Set up tools"
      ],
      "metadata": {
        "id": "6he41Z0Yu8Ij"
      }
    },
    {
      "cell_type": "code",
      "source": [
        "tool_definition_financial_data_lookup = {\n",
        "    \"name\": \"get_financial_data\",\n",
        "    \"description\": \"Retrieves the financial metric of a given company, at a given date.\",\n",
        "    \"input_schema\": {\n",
        "        \"type\": \"object\",\n",
        "        \"properties\": {\n",
        "            \"ticker\": {\n",
        "                \"type\": \"string\",\n",
        "                \"description\": \"The company's stock ticker to fetch financial data for. For example, JP Morgan's stock ticker is JPM, and JPM is the expected input to the function.\"\n",
        "            },\n",
        "            \"metric\": {\n",
        "                \"type\": \"string\",\n",
        "                \"enum\": [\"EBIDA\", \"EPS\", \"stock price\"],\n",
        "                \"description\": \"The financial metric to fetch\"\n",
        "            },\n",
        "            \"date\": {\n",
        "                \"type\": \"string\",\n",
        "                \"description\": \"The date of when the metric was calculated. Expected is a string following 'YYYY-MM-DD' format.\"\n",
        "            }\n",
        "        },\n",
        "        \"required\": [\"ticker\", \"metric\", \"date\"]\n",
        "    }\n",
        "}"
      ],
      "metadata": {
        "id": "Zp8THmhTu6YB"
      },
      "execution_count": null,
      "outputs": []
    },
    {
      "cell_type": "code",
      "source": [
        "def get_financial_data(ticker: str, metric: str, date: str) -> float:\n",
        "    \"\"\"Returns the financial metric of a given company, at a given date.\n",
        "       Use this function for any questions on the reading of a specific financial metric. \\\n",
        "       The inputs are \\\n",
        "       ticker: ticker of the company.\n",
        "       metric: metric should be one of EBIDA, EPS, or stock price.\n",
        "       date: the date of when the metric was calculated.\n",
        "       The date should be passed in as a string and follow 'YYYY-MM-DD' format \\\n",
        "\n",
        "        This function will return the financial data as a float number.\"\"\"\n",
        "\n",
        "    if metric == \"EBIDA\":\n",
        "        return 1\n",
        "\n",
        "    if metric == \"EPS\":\n",
        "        return 2\n",
        "\n",
        "    if metric == \"stock price\":\n",
        "        return 3"
      ],
      "metadata": {
        "id": "_J46hOzTu7gT"
      },
      "execution_count": null,
      "outputs": []
    },
    {
      "cell_type": "markdown",
      "source": [
        "##Set up LLM"
      ],
      "metadata": {
        "id": "rRD4aRo-yIbK"
      }
    },
    {
      "cell_type": "code",
      "source": [
        "# via Langchain\n",
        "# llm = ChatAnthropic(model='claude-3-sonnet-20240229'\n",
        "#                     , api_key = userdata.get('ANTHROPIC_API_KEY')\n",
        "#                     , tools=[tool_definition_financial_data_lookup])\n",
        "\n",
        "# Native API - Langchain seems not support multi varable tools very well\n",
        "client = anthropic.Anthropic(api_key = userdata.get('ANTHROPIC_API_KEY'))\n",
        "\n",
        "def get_response(prompt):\n",
        "\n",
        "  message = client.messages.create(\n",
        "      model = \"claude-3-sonnet-20240229\",\n",
        "      max_tokens = 1000,\n",
        "      temperature = 0.0,\n",
        "      tools=[tool_definition_financial_data_lookup],\n",
        "      system = \"You are a credit risk officier in an international investiment bank. \\\n",
        "                When asked, you respond concisely. \\\n",
        "                You have access to tools, but only use them when necessary. \\\n",
        "                If a tool is not required, respond as normal\",\n",
        "      messages = [\n",
        "          {\"role\": \"user\", \"content\": prompt}\n",
        "      ]\n",
        "  )\n",
        "\n",
        "  if message.stop_reason == \"tool_use\":\n",
        "    tool_use = message.content[-1]\n",
        "    tool_name = tool_use.name\n",
        "\n",
        "    if tool_name == \"get_financial_data\":\n",
        "      try:\n",
        "        tool_return = get_financial_data(\n",
        "                          ticker = tool_use.input['ticker'],\n",
        "                          metric = tool_use.input['metric'],\n",
        "                          date = tool_use.input['date'])\n",
        "\n",
        "        tool_response = {\n",
        "            \"role\": \"user\",\n",
        "            \"content\": [\n",
        "              {\n",
        "                \"type\": \"tool_result\",\n",
        "                \"tool_use_id\": tool_use.id,\n",
        "                \"content\": tool_return\n",
        "              }\n",
        "            ]\n",
        "        }\n",
        "\n",
        "        return f\"The tool return is: {tool_return}\"\n",
        "      except ValueError as e:\n",
        "        return f\"Error: {str(e)}\"\n",
        "\n",
        "  elif message.stop_reason == \"end_turn\":\n",
        "      return \"Claude didn't want to use a tool\"\n",
        "      return \"Claude responded with:\" + message.content[0].text\n",
        "\n",
        "  return message"
      ],
      "metadata": {
        "id": "2i9_k9zPu7d3"
      },
      "execution_count": null,
      "outputs": []
    },
    {
      "cell_type": "markdown",
      "source": [
        "###Test out tools"
      ],
      "metadata": {
        "id": "ZsQsMmuj0_Or"
      }
    },
    {
      "cell_type": "code",
      "source": [
        "test_query = \"what's JP Morgan's EBIDA at 2023 YE?\""
      ],
      "metadata": {
        "id": "OHhUqDw2u7a0"
      },
      "execution_count": null,
      "outputs": []
    },
    {
      "cell_type": "code",
      "source": [
        "response = get_response(test_query)"
      ],
      "metadata": {
        "id": "5d4VfKOHu7YB"
      },
      "execution_count": null,
      "outputs": []
    },
    {
      "cell_type": "code",
      "source": [
        "response"
      ],
      "metadata": {
        "id": "NB1DPKkFu7Vd",
        "colab": {
          "base_uri": "https://localhost:8080/",
          "height": 36
        },
        "outputId": "d1af7bb8-e80c-4f3d-b748-7b9b75fc4b7a"
      },
      "execution_count": null,
      "outputs": [
        {
          "output_type": "execute_result",
          "data": {
            "text/plain": [
              "'The tool return is: 1'"
            ],
            "application/vnd.google.colaboratory.intrinsic+json": {
              "type": "string"
            }
          },
          "metadata": {},
          "execution_count": 33
        }
      ]
    },
    {
      "cell_type": "code",
      "source": [
        "tool_return"
      ],
      "metadata": {
        "colab": {
          "base_uri": "https://localhost:8080/"
        },
        "id": "6tgxg0Ci52jw",
        "outputId": "052a34b1-92ad-4456-8451-65af7a13e36d"
      },
      "execution_count": null,
      "outputs": [
        {
          "output_type": "execute_result",
          "data": {
            "text/plain": [
              "1"
            ]
          },
          "metadata": {},
          "execution_count": 26
        }
      ]
    },
    {
      "cell_type": "markdown",
      "source": [
        "##Specify LLM and setup query"
      ],
      "metadata": {
        "id": "Eisa9mDuB23f"
      }
    },
    {
      "cell_type": "code",
      "source": [
        "llm = ChatAnthropic(model='claude-3-sonnet-20240229'\n",
        "                    , api_key = userdata.get('ANTHROPIC_API_KEY'))"
      ],
      "metadata": {
        "id": "ooLvTZpVPxCK"
      },
      "execution_count": null,
      "outputs": []
    },
    {
      "cell_type": "code",
      "source": [
        "# set up query\n",
        "\n",
        "system_prompt = (\n",
        "    \"You are a credit risk officier in an international investment bank. \"\n",
        "    \"You are to provide quarterly update on the fundamental and credit quality of the company specified. \"\n",
        "    \"Specifically, you are to summarize based on sessions \"\n",
        "    \"of the company's financial statements provided.\"\n",
        "    \"The financial statements shall include current and historical 10-K, 10-Q and earning call transcripts\"\n",
        "    \"Please keep the answer concise. \"\n",
        ")\n",
        "\n",
        "user_prompt = (\n",
        "    \"Can you summarize company {company}'s {query} and provide a view on projected performance and forward looking sentiment?\"\n",
        "    \"The requirement is {query_description}\"\n",
        "    \"The financial statements provided will follow a python dictionary format, \"\n",
        "    \"where the keys are the file names, and the values are relevant extraction from the file.\"\n",
        "    \"The file names shall indicate the type of financial statements (i.e. 10-K) and the reporting period (i.e. 2023Q4).\"\n",
        "    \"{docs}\"\n",
        ")\n",
        "\n",
        "prompt_template = ChatPromptTemplate.from_messages(\n",
        "    [\n",
        "        (\"system\", system_prompt),\n",
        "        (\"human\", user_prompt),\n",
        "    ]\n",
        ")"
      ],
      "metadata": {
        "id": "O5-aB1K8UVFj"
      },
      "execution_count": null,
      "outputs": []
    },
    {
      "cell_type": "code",
      "source": [
        "query = 'financial updates'\n",
        "query_description = \"\"\"\n",
        "  Include brief commentary about performance on the quarter or YTD period.\n",
        "  Touch on factors impacting revenue, cost structure, and cash flow.\n",
        "  Keep in mind a perceived weakness vs. a clearly defined weakness.\n",
        "\n",
        "  This shall include a high-level summary of management's discussions detailing fiscal year year-over-year comparison.\n",
        "  This shall include a high-level view of the trends being noted within the financial tables within the section\n",
        "  such as revenue grouwth, expenses growth, segment growth, etc.\n",
        "  \"\"\""
      ],
      "metadata": {
        "id": "b47hdlisjyuL"
      },
      "execution_count": null,
      "outputs": []
    },
    {
      "cell_type": "markdown",
      "source": [
        "##Construct Relevant sessions from documents"
      ],
      "metadata": {
        "id": "bhQc0bEjVJSB"
      }
    },
    {
      "cell_type": "code",
      "source": [
        "# load files and chunk to elements\n",
        "\n",
        "pdf_names = ['JPM-10k-2022.pdf'\n",
        "          , 'JPM-earning call transcript 2022Q4.pdf'\n",
        "          , 'JPM-10K-2021.pdf'] # 10K has already cut down\n",
        "\n",
        "file_to_elements = {}\n",
        "\n",
        "for pdf_name in pdf_names:\n",
        "  loader = UnstructuredPDFLoader(pdf_name, strategy = 'hi_res', infer_table_structure = True, model_name = 'yolox')\n",
        "  elements = loader.load_and_split()\n",
        "  file_to_elements[pdf_name] = elements"
      ],
      "metadata": {
        "id": "l7pk47XRjg0J"
      },
      "execution_count": null,
      "outputs": []
    },
    {
      "cell_type": "code",
      "source": [
        "# sanity check, to delete later\n",
        "for pdf_name, elements in file_to_elements.items():\n",
        "  print(pdf_name, len(elements))"
      ],
      "metadata": {
        "colab": {
          "base_uri": "https://localhost:8080/"
        },
        "id": "wED_X1RbTlfd",
        "outputId": "becb65c9-d217-44e1-b489-ae6715b062b4"
      },
      "execution_count": null,
      "outputs": [
        {
          "output_type": "stream",
          "name": "stdout",
          "text": [
            "JPM-10k-2022.pdf 3\n",
            "JPM-earning call transcript 2022Q4.pdf 24\n",
            "JPM-10K-2021.pdf 3\n"
          ]
        }
      ]
    },
    {
      "cell_type": "code",
      "source": [
        "# set up embeddings\n",
        "# picked a random free one\n",
        "\n",
        "model_name = \"all-MiniLM-L6-v2.gguf2.f16.gguf\"\n",
        "gpt4all_kwargs = {'allow_download': 'True'}\n",
        "embeddings = GPT4AllEmbeddings(\n",
        "    model_name=model_name,\n",
        "    gpt4all_kwargs=gpt4all_kwargs\n",
        ")"
      ],
      "metadata": {
        "id": "OjiKNXl3kQwx"
      },
      "execution_count": null,
      "outputs": []
    },
    {
      "cell_type": "code",
      "source": [
        "file_to_docs = {}\n",
        "\n",
        "for pdf_name, elements in file_to_elements.items():\n",
        "    db = DocArrayInMemorySearch.from_documents(\n",
        "      elements,\n",
        "      embeddings\n",
        "      )\n",
        "    docs = db.similarity_search(query + '. '+ query_description)\n",
        "    file_to_docs[pdf_name] = docs"
      ],
      "metadata": {
        "id": "QBLPOzRz1IfG"
      },
      "execution_count": null,
      "outputs": []
    },
    {
      "cell_type": "code",
      "source": [
        "# sanity check, to delete later\n",
        "for pdf_name, elements in file_to_docs.items():\n",
        "  print(pdf_name, len(elements))"
      ],
      "metadata": {
        "colab": {
          "base_uri": "https://localhost:8080/"
        },
        "id": "OuNXLwF5l4or",
        "outputId": "a7d9f88c-d665-4fbb-af58-90b6652aceba"
      },
      "execution_count": null,
      "outputs": [
        {
          "output_type": "stream",
          "name": "stdout",
          "text": [
            "JPM-10k-2022.pdf 3\n",
            "JPM-earning call transcript 2022Q4.pdf 4\n",
            "JPM-10K-2021.pdf 3\n"
          ]
        }
      ]
    },
    {
      "cell_type": "code",
      "source": [
        "file_to_docs_for_inputs = {}\n",
        "\n",
        "for pdf_name, docs in file_to_docs.items():\n",
        "  file_to_docs_for_inputs[pdf_name] = '\\n\\n'.join([doc.page_content for doc in docs])"
      ],
      "metadata": {
        "id": "s2d2oZ7sl4lo"
      },
      "execution_count": null,
      "outputs": []
    },
    {
      "cell_type": "code",
      "source": [
        "prompt = prompt_template.format_messages(\n",
        "                    company = 'JP Morgan',\n",
        "                    query= query,\n",
        "                    query_description = query_description,\n",
        "                    docs = file_to_docs_for_inputs)"
      ],
      "metadata": {
        "id": "reLlYcGhxpvx"
      },
      "execution_count": null,
      "outputs": []
    },
    {
      "cell_type": "code",
      "source": [
        "response = llm(prompt)"
      ],
      "metadata": {
        "id": "QcFqMtdrl1fI"
      },
      "execution_count": null,
      "outputs": []
    },
    {
      "cell_type": "code",
      "source": [
        "display(Markdown(response.content))\n",
        "# cost is 3 cents"
      ],
      "metadata": {
        "colab": {
          "base_uri": "https://localhost:8080/",
          "height": 408
        },
        "id": "jZkalZZEpE0W",
        "outputId": "c57cd605-8692-4017-eb87-836a89f04982"
      },
      "execution_count": null,
      "outputs": [
        {
          "output_type": "display_data",
          "data": {
            "text/plain": [
              "<IPython.core.display.Markdown object>"
            ],
            "text/markdown": "Based on the financial statements and management discussion, here are the key updates on JPMorgan Chase's performance and outlook:\n\nQ4 2022 and Full Year 2022 Performance:\n\n- Net income was $11.0 billion in Q4 2022 and $37.7 billion for full year 2022, down 22% from 2021 driven by higher provision for credit losses and lower noninterest revenue.\n\n- Total net revenue was $35.6 billion in Q4, up 17% year-over-year, and $128.7 billion for the full year, up 6%.\n  - Net interest income (ex-Markets) was up significantly, driven by higher rates and loan growth\n  - Noninterest revenue was down, impacted by lower investment banking fees, securities losses, and lower mortgage/auto revenues\n\n- Provision for credit losses was $2.3 billion in Q4 and $6.4 billion for the year, reflecting reserve builds due to loan growth and a deteriorating economic outlook.\n\n- Firm continues to see solid consumer spending trends, though cash buffers are normalizing. Wholesale loan growth remains strong.\n\nOutlook for 2023:\n\n- JPMorgan expects full year 2023 net interest income of ~$73 billion, driven by higher rates, partially offset by expected deposit repricing.\n\n- Modest overall loan growth projected, with Card revolving balances expected to be a tailwind.\n\n- Expense outlook incorporates investments in business and technology, while managing compensation/volume-related expenses prudently.\n\n- Credit costs expected to remain elevated as economic conditions weaken.\n\n- Firm reached 13% CET1 ratio target ahead of schedule and plans to resume share repurchases in Q1 2023.\n\nSo while JPMorgan faced headwinds in 2022 from the capital markets environment, it benefited from higher rates and continues to see relatively solid client activity. However, the economic outlook has weighed on credit reserves and profitability outlook."
          },
          "metadata": {}
        }
      ]
    },
    {
      "cell_type": "code",
      "source": [
        "# this is the prior response for comparison\n",
        "display(Markdown(response))"
      ],
      "metadata": {
        "colab": {
          "base_uri": "https://localhost:8080/",
          "height": 324
        },
        "id": "cya7m8iSl1cr",
        "outputId": "a8cd6677-7d3d-44ec-a78f-e08016bcbf62"
      },
      "execution_count": null,
      "outputs": [
        {
          "output_type": "display_data",
          "data": {
            "text/plain": [
              "<IPython.core.display.Markdown object>"
            ],
            "text/markdown": "Based on the provided excerpts from JPMorgan Chase's 2022 Form 10-K filing, here is a summary update on the company's financials and fundamentals as a credit risk officer:\n\nJPMorgan Chase reported net income of $37.7 billion for full year 2022, down 22% from the prior year. Return on equity was 14% and return on tangible common equity was 18% for the year.\n\nOn the revenue side:\n- Total net revenue was $128.7 billion, up 6% year-over-year\n- Net interest income was $66.7 billion, up 28% driven by higher rates and loan growth, offset partially by lower Markets net interest income\n- Net interest income excluding Markets was up 40% to $62.4 billion\n\nThe significant increase in net interest income was a positive factor aided by the higher rate environment. However, the decline in Markets' net interest income impacted overall growth.\n\nNon-interest revenue details were not provided, so assessing fee income sources is difficult. Cost structure and operating leverage trends are also unclear from the given information.\n\nOverall, JPMorgan showed revenue growth in 2022 but profitability was pressured. The higher rate environment supported net interest income, but other business weaknesses like lower Markets revenues impacted earnings growth. A more comprehensive review of non-interest revenues, expense management and capital positioning would provide a fuller perspective."
          },
          "metadata": {}
        }
      ]
    },
    {
      "cell_type": "code",
      "source": [],
      "metadata": {
        "id": "jscXd7np3DWI"
      },
      "execution_count": null,
      "outputs": []
    }
  ]
}